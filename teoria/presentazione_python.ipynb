{
  "cells": [
    {
      "cell_type": "markdown",
      "metadata": {
        "colab_type": "text",
        "id": "view-in-github"
      },
      "source": [
        "<a href=\"https://colab.research.google.com/github/SamueleLonghin/teach-py/blob/tlc-2023-24/presentazione_python.ipynb\" target=\"_parent\"><img src=\"https://colab.research.google.com/assets/colab-badge.svg\" alt=\"Open In Colab\"/></a>"
      ]
    },
    {
      "cell_type": "markdown",
      "metadata": {
        "id": "PmiHFnOMeiIG"
      },
      "source": [
        "# Introduzione\n",
        "Python è un linguaggio di programmazione ad alto livello, **interpretato**, **orientato agli oggetti** e **multipiattaforma**. È stato creato nel 1991 da Guido van Rossum e si è rapidamente diffuso come uno dei linguaggi di programmazione più popolari al mondo.\n",
        "\n",
        "Una delle caratteristiche distintive di Python è la sua sintassi leggibile e intuitiva, che lo rende facile da imparare anche per i principianti. Python è ampiamente utilizzato in molte aree della programmazione, tra cui lo sviluppo di applicazioni web, il machine learning, l'elaborazione dei dati, l'automazione dei processi, la creazione di giochi e molto altro ancora.\n",
        "\n",
        "Python è anche noto per la sua vasta libreria standard, che fornisce un'ampia gamma di funzionalità già pronte per l'uso, come l'elaborazione dei file, la manipolazione delle stringhe, la gestione dei dati e altro ancora.\n",
        "\n",
        "In sintesi, Python è un linguaggio di programmazione versatile e potente, che può essere utilizzato per una vasta gamma di progetti, dai semplici script ai sistemi complessi e avanzati.\n",
        "# Sintassi\n"
      ]
    },
    {
      "cell_type": "markdown",
      "metadata": {
        "id": "5cC6iD7JehN2"
      },
      "source": [
        "# Variabili\n",
        "Python supporta diversi tipi di dati, tra cui:\n",
        "\n",
        "* Integer: rappresenta un numero intero senza parte decimale.\n",
        "  Ad esempio: x = 5\n",
        "* Float: rappresenta un numero con parte decimale.\n",
        "Ad esempio: y = 3.14\n",
        "* String: rappresenta una sequenza di caratteri.\n",
        "Ad esempio: nome = \"Mario\"\n",
        "* Boolean: rappresenta il valore di verità vero o falso.\n",
        "Ad esempio: z = True\n",
        "\n",
        "Inoltre, Python supporta anche tipi di dati più avanzati, come le liste, le tuple, i dizionari e gli insiemi.\n",
        "\n",
        "È importante notare che in Python le variabili sono **dinamicamente tipizzate**, il che significa che non è necessario specificare il tipo di dati quando si dichiara una variabile. Il tipo di dati viene determinato automaticamente in base al valore assegnato alla variabile. Se per esempio assegno ad *x* il valore \"Hello World!\" l'interprete capirà che *x* è una variabile di tipo stringa ma se poi nella stessa variabile *x* inserisco il valore 4.4 l'interprete cambierà il tipo di dato di *x* in Float\n",
        "\n",
        "\n",
        "\n",
        "```python\n",
        "x = \"Hello World\"\n",
        "#x è una stringa\n",
        "x = 4.4\n",
        "#x ora è Float\n",
        "```\n",
        "\n"
      ]
    },
    {
      "cell_type": "markdown",
      "metadata": {
        "id": "CCgJkO1qhXi9"
      },
      "source": [
        "## Tuple\n",
        "In Python, una tupla è un tipo di dato **immutabile*** che rappresenta una sequenza di valori separati da virgole e racchiusi tra parentesi tonde. Le tuple possono contenere valori di diversi tipi di dato, come numeri, stringhe, liste o altre tuple\n",
        "```python\n",
        "mese_anno = (\"Gennaio\", \"Febbraio\", \"Marzo\", \"Aprile\", \"Maggio\", \"Giugno\", \"Luglio\")\n",
        "```\n",
        "Una volta creata, una tuple non può essere modificata: non è possibile aggiungere, rimuovere o modificare i valori che contiene. Tuttavia, è possibile accedere ai singoli elementi della tuple utilizzando l'operatore di indice, che restituisce l'elemento corrispondente alla posizione specificata.\n",
        "\n",
        "La tupla viene definita immutabile, nonostante ciò possiamo modificare i singoli valori.\n",
        "\n",
        "Ad esempio, per accedere al primo elemento della tuple \"mese_anno\" (che è \"Gennaio\"), è possibile utilizzare l'indice 0:\n",
        "\n",
        "\n",
        "```python\n",
        "primo_mese = mese_anno[0]\n",
        "mese_anno[1] = 'February'\n",
        "```\n"
      ]
    },
    {
      "cell_type": "markdown",
      "metadata": {
        "id": "s4_ReIPVjEPJ"
      },
      "source": [
        "## Liste\n",
        "In Python, una lista è un tipo di dato mutabile che rappresenta una sequenza di valori separati da virgole e racchiusi tra parentesi quadre. Le liste possono contenere valori di diversi tipi di dato, come numeri, stringhe, altre liste, tuple o anche oggetti personalizzati.\n",
        "```python\n",
        "frutta = [\"mela\", \"banana\", \"arancia\", \"kiwi\"]\n",
        "```\n",
        "\n",
        "Per ottenere i valori all'interno di una lista possiamo usare l'operatore *lista[ indice ]* e specificando l'indice effettivo dell'elemento nella lista. Gli indici hanno delle peculiarità:\n",
        "* Gli indici **iniziano da 0!**\n",
        "* Gli indici sono **numeri interi** (no 3,14)\n",
        "* Gli indici possibili per una lista di 10 elementi sono i numeri interi da 0 a 9\n",
        "* Per ottenere l'ultimo elemento si usa **-1**, per il penultimo -2 e via così\n",
        "\n",
        "\n",
        "```python\n",
        "#Per ottenere il primo valore utilizzo l'indice 0\n",
        "frutta[0]\n",
        "\n",
        "#Per il secondo utilizzo 1\n",
        "frutta[1]\n",
        "\n",
        "#Per ottenere l'ultimo valore utilizzo l'indice -1\n",
        "frutta[-1]\n",
        "\n",
        "#Per il penultimo utilizzo -2\n",
        "frutta[-2]\n",
        "```\n",
        "\n",
        "A differenza delle tuple, le liste sono mutabili e possono essere modificate dopo la loro creazione. Ad esempio, è possibile aggiungere nuovi elementi alla lista, rimuovere elementi esistenti o modificare il valore degli elementi esistenti utilizzando l'operatore di indice.\n",
        "\n",
        "Ecco alcuni esempi di operazioni comuni che è possibile eseguire con le liste:\n",
        "\n",
        "\n",
        "```python\n",
        "# Aggiungi un nuovo elemento alla lista\n",
        "frutta.append(\"limone\")\n",
        "\n",
        "# Rimuovi un elemento specifico dalla lista\n",
        "frutta.remove(\"banana\")\n",
        "\n",
        "# Modifica il valore di un elemento esistente nella lista\n",
        "frutta[2] = \"mandarino\"\n",
        "```\n",
        "\n"
      ]
    },
    {
      "cell_type": "markdown",
      "metadata": {
        "id": "6UY2HsOB8nyZ"
      },
      "source": [
        "### Slicing\n",
        "In Python, è possibile ottenere un sottoinsieme di valori da una lista utilizzando l'operatore \"slicing\" (o \"fetta\" in italiano), che viene indicato utilizzando i due punti \":\", seguiti dagli indici di inizio e fine del sottoinsieme.\n",
        "\n",
        "L'operatore di slicing restituisce una nuova lista contenente i valori compresi tra gli indici di inizio e fine specificati, escludendo l'elemento all'indice finale. Ecco alcuni esempi di utilizzo dell'operatore di slicing:\n",
        "\n",
        "\n",
        "#### Esempio di slicing per ottenere i primi tre elementi di una lista:\n",
        "```python\n",
        "numeri = [1, 2, 3, 4, 5]\n",
        "primi_tre_numeri = numeri[:3] #Significa: parti dall'inizio e fermati prima del quarto (indice 3)\n",
        "print(primi_tre_numeri) # Output: [1, 2, 3]\n",
        "\n",
        "```\n",
        "#### Esempio di slicing per ottenere gli ultimi due elementi di una lista:\n",
        "```python\n",
        "numeri = [1, 2, 3, 4, 5]\n",
        "ultimi_due_numeri = numeri[-2:] #Significa: parti dal penultimo (indice -2) e vai fino alla fine\n",
        "print(ultimi_due_numeri) # Output: [4, 5]\n",
        "```\n",
        "#### Esempio di slicing per ottenere i valori compresi tra il secondo e il quarto elemento di una lista:\n",
        "```python\n",
        "numeri = [1, 2, 3, 4, 5]\n",
        "valori_compresi_tra_2_e_4 = numeri[1:4]#Significa parti dal secondo(indice 2) e fermati prima del quinto (indice 4)\n",
        "print(valori_compresi_tra_2_e_4) # Output: [2, 3, 4]\n",
        "\n",
        "```\n",
        "È possibile specificare anche un terzo parametro per l'operatore di slicing, che indica lo **step** o la lunghezza del passo tra gli elementi selezionati. Ad esempio:\n",
        "#### Esempio di slicing per ottenere i valori in posizione dispari di una lista:\n",
        "```python\n",
        "numeri = [1, 2, 3, 4, 5]\n",
        "valori_con_step_due = numeri[::2]#Significa parti dall'inizio ed arriva alla fine facendo salti di due\n",
        "print(valori_con_step_due) # Output: [1, 3, 5]\n",
        "```\n",
        "#### Riassumendo\n",
        "Per ottenere i valori all'interno di una lista possiamo usare l'operatore []. Qesto operatore accetta potenzialmente tre numeri interi come argomenti:\n",
        "*   indice di inizio **I**\n",
        "*   Indice di fine **F**\n",
        "*   Step da eseguire tra un valore e l'altro **S**\n",
        "\n",
        "\n",
        "```python\n",
        "I, F, S = 3, 10, 2\n",
        "lista[I:F:S] #Preleva dalla posizione 4 alla decima facendo salti di due\n",
        "\n",
        "lista[I]     #Preleva solamente in posizione 3\n",
        "lista[I::S]  #Preleva dalla posizione 4 in poi a salti di due\n",
        "lista[:F:S]  #Preleva dall'inizio alla posizione 10 a salti di due\n",
        "```"
      ]
    },
    {
      "cell_type": "markdown",
      "metadata": {
        "id": "8YfH27EMA1Nx"
      },
      "source": [
        "### Operazioni tra Liste\n",
        "In Python, le liste supportano diverse operazioni tra cui:\n",
        "\n",
        "\n",
        "```python\n",
        "# Concatenzaione\n",
        "lista1 = [1, 2, 3]\n",
        "lista2 = [4, 5, 6]\n",
        "lista_concatenata = lista1 + lista2\n",
        "print(lista_concatenata) # Output: [1, 2, 3, 4, 5, 6]\n",
        "\n",
        "# Ripetizione\n",
        "lista = [1, 2, 3]\n",
        "lista_ripetuta = lista * 3\n",
        "print(lista_ripetuta) # Output: [1, 2, 3, 1, 2, 3, 1, 2, 3]\n",
        "\n",
        "#RImozione\n",
        "lista = [1, 2, 3, 4, 5]\n",
        "del lista[2]\n",
        "print(lista) # Output: [1, 2, 4, 5]\n",
        "del lista[1:3]\n",
        "print(lista) # Output: [1, 5]\n",
        "\n",
        "```\n",
        "\n"
      ]
    },
    {
      "cell_type": "code",
      "execution_count": null,
      "metadata": {
        "colab": {
          "base_uri": "https://localhost:8080/"
        },
        "id": "4_MrF1h4BvyN",
        "outputId": "89f0fffe-853e-47ed-d3ec-567d4dcfed85"
      },
      "outputs": [],
      "source": [
        "lista = [\"Gennaio\", \"Febbraio\", \"Marzo\", \"Aprile\", \"Maggio\", \"Giugno\", \"Luglio\", \"Agosto\", \"Settembre\", \"Ottobre\", \"Novembre\", \"Dicembre\"]\n",
        "# PROVA TU!\n",
        "# Scrivi nella riga sotto alla consegna il codice necessario per ottenere quello richiesto\n",
        "# Per stampare utilizza print(valore) e sostituisci valore con l'espressione richiesta\n",
        "\n",
        "# Es 0.1: Stampa il primo mese\n",
        "\n",
        "# Es 0.2: Stampa i primi 3 mesi\n",
        "\n",
        "# Es 0.3: Stampa l'ultimo mese\n",
        "\n",
        "# Es 0.4: Stampa i mesi dispari\n",
        "\n",
        "# Es 0.5: Stampa i mesi pari\n"
      ]
    },
    {
      "cell_type": "markdown",
      "metadata": {
        "id": "SiDx1JSvjoDd"
      },
      "source": [
        "## Dizionari\n",
        "In Python, un dizionario, o \"dict\" per abbreviazione, è un tipo di dato mutabile che rappresenta una raccolta non ordinata di coppie chiave-valore. I dizionari sono indicizzati dalle chiavi, che devono essere immutabili, come ad esempio le stringhe o le tuple.\n",
        "\n",
        "Ecco un esempio di dizionario:\n",
        "```python\n",
        "studente = {\n",
        "    \"nome\": \"Mario\",\n",
        "    \"cognome\": \"Rossi\",\n",
        "    \"età\": 23,\n",
        "    \"corsi\": [\"Matematica\", \"Informatica\", \"Fisica\"]\n",
        "}\n",
        "```\n",
        "A differenza delle liste e delle tuple, i dizionari sono mutabili e possono essere modificati dopo la loro creazione. Ad esempio, è possibile aggiungere nuove coppie chiave-valore al dizionario, rimuovere coppie esistenti o modificare il valore associato a una chiave esistente utilizzando l'operatore di indice.\n",
        "\n",
        "Ecco alcuni esempi di operazioni comuni che è possibile eseguire con i dizionari:\n",
        "\n",
        "\n",
        "```python\n",
        "# Aggiungi una nuova coppia chiave-valore al dizionario\n",
        "studente[\"email\"] = \"mario.rossi@email.com\"\n",
        "\n",
        "# Rimuovi una coppia chiave-valore specifica dal dizionario\n",
        "del studente[\"età\"]\n",
        "\n",
        "# Modifica il valore associato a una chiave esistente nel dizionario\n",
        "studente[\"corsi\"] = [\"Matematica\", \"Informatica\", \"Fisica\", \"Chimica\"]\n",
        "```"
      ]
    },
    {
      "cell_type": "code",
      "execution_count": null,
      "metadata": {
        "id": "ujcjF1O2FkDm"
      },
      "outputs": [],
      "source": [
        "# Partendo da questo dizionario \"studente\" scrivi nella riga sotto alla consegna il codice necessario per ottenere quello richiesto\n",
        "studente = {\n",
        "    \"nome\": \"Mario\",\n",
        "    \"cognome\": \"Rossi\",\n",
        "    \"età\": 23,\n",
        "    \"corsi\": [\"Matematica\", \"Informatica\", \"Fisica\"]\n",
        "}\n",
        "# Es 0.6: Stampa l'età dello studente\n",
        "\n",
        "# Es 0.7: Modifica il nome ed il cognome dello studente in \"Francesco\" \"Bianchi\"\n"
      ]
    },
    {
      "cell_type": "markdown",
      "metadata": {
        "id": "Z51fZSJ-fOOw"
      },
      "source": [
        "# Funzioni\n",
        "In programmazione, una funzione è un blocco di codice che viene scritto una volta sola e può essere richiamato (o \"chiamato\") da diverse parti del programma. Le funzioni consentono di modularizzare il codice, rendendolo più leggibile, manutenibile e **riutilizzabile**.\n",
        "\n",
        "Per creare una funzione in Python, è necessario utilizzare la parola chiave \"def\", seguita dal nome della funzione e dalle parentesi tonde. All'interno delle parentesi tonde è possibile specificare uno o più parametri, che rappresentano i dati in ingresso che la funzione dovrà elaborare. Ad esempio:\n",
        "\n",
        "\n",
        "```python\n",
        "def saluta(nome):\n",
        "    print(\"Ciao, \" + nome + \"!\")\n",
        "\n",
        "def moltiplica(a, b):\n",
        "    prodotto = a * b\n",
        "    return prodotto\n",
        "```\n",
        "\n",
        "Per utilizzare la funzione, è sufficiente richiamarla con i parametri appropriati:\n",
        "\n",
        "```python\n",
        "saluta(\"Amico\")     # Stamperà -> Ciao, Amico!\n",
        "saluta(\"Francesco\") # Stamperà -> Ciao, Francesco!\n",
        "\n",
        "risultato = moltiplica(2, 3)  # risultato2 conterrà 6\n",
        "print(risultato)              # Output: 6\n",
        "risultato2 = moltiplica(2,2)  # risultato2 conterrà 4\n",
        "print(risultato - risultato2) # Output: 2\n",
        "```\n",
        "\n"
      ]
    },
    {
      "cell_type": "markdown",
      "metadata": {
        "id": "pthDIOp6k2q_"
      },
      "source": [
        "# Costrutti principali"
      ]
    },
    {
      "cell_type": "markdown",
      "metadata": {
        "id": "m8OaPxI-k8jh"
      },
      "source": [
        "## If\n",
        "Il costrutto *if* funziona come nei classici linguaggi\n",
        "\n",
        "\n",
        "```python\n",
        "numero = 15\n",
        "if numero > 10:\n",
        "    print(\"Il numero è maggiore di 10\")\n",
        "```\n",
        "\n"
      ]
    },
    {
      "cell_type": "markdown",
      "metadata": {
        "id": "SBsj3NZe7P78"
      },
      "source": [
        "## While\n",
        "Il costrutto *While* permette di eseguire una operazione finchè una determinata condizione è verificata\n",
        "\n",
        "\n",
        "```python\n",
        "n = 1\n",
        "while n <= 5:\n",
        "    print(n)\n",
        "    n = n + 1\n",
        "```\n",
        "\n"
      ]
    },
    {
      "cell_type": "markdown",
      "metadata": {
        "id": "rKr-z0Ez6oPH"
      },
      "source": [
        "## For\n",
        "Il costrutto *for* permette di eseguire una operazione un numero definito di volte\n",
        "\n",
        "\n",
        "```python\n",
        "# stampo una lista di numeri\n",
        "numeri = [1, 2, 3, 4, 5]\n",
        "for numero in numeri:\n",
        "    print(numero)\n",
        "\n",
        "# stampo un intervallo di numeri\n",
        "for numero in range(1,6):\n",
        "    print(numero)\n",
        "\n",
        "```\n",
        "\n",
        "In python esiste anche una sorta di *for inline*.\n",
        "Questo è molto utile per sintetizzare il codice e renderlo più leggibile\n",
        "\n",
        "```python\n",
        "#lista di partenza\n",
        "numeri = [1, 2, 3, 4, 5]\n",
        "#lista di quadrati ottenuti moltiplicando x*x\n",
        "quadrati = [x*x for x in numeri]\n",
        "```\n",
        "\n",
        "\n",
        "\n"
      ]
    },
    {
      "cell_type": "markdown",
      "metadata": {
        "id": "MZGEywu09WLQ"
      },
      "source": [
        "# Interazione con l'utente\n",
        "Per intereagire con l'utente python ci offre principalmente due funzioni. Una per leggere un valore dalla tastiera e l'altra per stampare un valore a schermo.\n",
        "## Input\n",
        "per leggere un valore usare la funzione *input()*. Questa ci restituirà il valore che l'utente inseririrà.\n",
        "Possiamo anche specificare un testo che viene visualizzato dall'utente nel momento dell'inserimento\n",
        "\n",
        "\n",
        "\n",
        "```python\n",
        "x = input()                      #Inserisce il valore in x\n",
        "y = input(\"Scrivi il tuo nome\")  #Inserisce il valore in y\n",
        "```\n",
        "\n",
        "## Output\n",
        "La funzione *print(valore1,valore2,...)* consente di scrivere uno o più valori separati da virgola su terminale. Ad esempio:\n",
        "\n",
        "```python\n",
        "nome = \"Alice\"\n",
        "cognome = \"Rossi\"\n",
        "print(\"Il tuo nome è\", nome, \"e il tuo cognome è\", cognome)\n",
        "```"
      ]
    }
  ],
  "metadata": {
    "colab": {
      "include_colab_link": true,
      "provenance": [],
      "toc_visible": true
    },
    "kernelspec": {
      "display_name": "Python 3",
      "name": "python3"
    },
    "language_info": {
      "name": "python"
    }
  },
  "nbformat": 4,
  "nbformat_minor": 0
}
