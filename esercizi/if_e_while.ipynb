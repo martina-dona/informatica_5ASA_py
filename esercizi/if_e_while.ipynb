{
  "cells": [
    {
      "cell_type": "markdown",
      "metadata": {
        "id": "HB3XbPDcSqe1"
      },
      "source": [
        "# Esercizi IF"
      ]
    },
    {
      "cell_type": "code",
      "execution_count": null,
      "metadata": {
        "id": "0U7L9A29RfeT"
      },
      "outputs": [],
      "source": [
        "# Es 4.1: Ottenere dall'utente un numero in input e scrivere a schermo \"Pari\" se il numero è pari, scrivere \"Dispari\" altrimenti\n",
        "x = int(input())\n",
        "if x%2==0 :\n",
        "    print(\"il numero è pari\")\n",
        "else:\n",
        "    print(\"il numero è dispari\")\n"
      ]
    },
    {
      "cell_type": "code",
      "execution_count": null,
      "metadata": {
        "id": "gE3RVr9ORuwP"
      },
      "outputs": [],
      "source": [
        "# Es 4.2: Ottenere dall'utente tre angoli caso siano i tre angoli di un triangolo scrivere a schermo \"È un triangolo\", altrimenti \"Non è un triangolo\"\n",
        "x=float(input())\n",
        "y=float(input())\n",
        "z=float(input())\n",
        "\n",
        "if x+y+z==180:\n",
        "    print(\"è un triangolo\")\n",
        "else:\n",
        "    print(\"non è un triangolo\")"
      ]
    },
    {
      "cell_type": "code",
      "execution_count": null,
      "metadata": {
        "id": "r1A_DavcSKgi"
      },
      "outputs": [],
      "source": [
        "# Es 4.3: Ottenuti dall'utente tre angoli di un tringolo scrivere a schermo se i tre angoli descrivono un triangolo rettangolo o no\n",
        "x=float(input())\n",
        "y=float(input())\n",
        "z=float(input())\n",
        "\n",
        "if x==90 or y==90 or z==90:\n",
        "    print(\"il triangolo è rettangolo\")\n",
        "else: \n",
        "    print(\"non è un triangolo rettangolo\")"
      ]
    },
    {
      "cell_type": "code",
      "execution_count": null,
      "metadata": {
        "id": "iA9D4X_GSims"
      },
      "outputs": [],
      "source": [
        "# Es 4.4: Ottenuti dall'utente tre angoli di un tringolo scrivere a schermo se i tre angoli descrivono un triangolo equilatero o no\n",
        "x=float(input())\n",
        "y=float(input())\n",
        "z=float(input())\n",
        "\n",
        "if x==60 and y==60 and z==60:\n",
        "    print(\"il triangolo è equilatero\")\n",
        "else:\n",
        "    print(\"il triangolo non è equilatero\")"
      ]
    },
    {
      "cell_type": "code",
      "execution_count": null,
      "metadata": {
        "id": "8q4gadoTSU7J"
      },
      "outputs": [],
      "source": [
        "# Es 4.5: Ottenuti dall'utente tre angoli di un tringolo scrivere a schermo se i tre angoli descrivono un triangolo isocele o no\n",
        "x=float(input())\n",
        "y=float(input())\n",
        "z=float(input())\n",
        "\n",
        "if x==y or y==z or x==z:#2 angoli uguali\n",
        "    print(\"il triangolo è isoscele\")\n",
        "else:\n",
        "    print(\"il triangolo non è isoscele\")"
      ]
    },
    {
      "cell_type": "code",
      "execution_count": null,
      "metadata": {
        "id": "yVIE2kK3SYlq"
      },
      "outputs": [],
      "source": [
        "# Es 4.6: Ottenuti dall'utente tre angoli di un tringolo scrivere a schermo se i tre angoli descrivono un triangolo isocele, rettagolo, equilatero o scaleno\n",
        "x=float(input())\n",
        "y=float(input())\n",
        "z=float(input())\n",
        "\n",
        "if x==90 or y==90 or z==90:\n",
        "    print(\"il triangolo è rettangolo\")\n",
        "if x==60 and y==60 and z==60:\n",
        "    print(\"il triangolo è equilatero\")\n",
        "if x==y or y==z or x==z:\n",
        "    print(\"il triangolo è isoscele\")\n",
        "else:\n",
        "    print(\"il triangolo è scaleno\")"
      ]
    },
    {
      "cell_type": "markdown",
      "metadata": {
        "id": "ef5snVxLqeQh"
      },
      "source": [
        "# Esercizi WHILE\n"
      ]
    },
    {
      "cell_type": "code",
      "execution_count": null,
      "metadata": {
        "id": "j61RqiHxqdmh"
      },
      "outputs": [],
      "source": [
        "# Es 4.7: Creare una funzione print_n(n,v) che stampi n volte il. contenuto di v\n",
        "def print_n(v,n):\n",
        "    i=1\n",
        "    while i<=n:\n",
        "        print(v)\n",
        "        i=i+1\n",
        "\n",
        "print_n(input(\"inserisci un valore/parola\"), int(input(\"quante volte vuoi ripeterlo? \")))"
      ]
    },
    {
      "cell_type": "code",
      "execution_count": null,
      "metadata": {
        "colab": {
          "base_uri": "https://localhost:8080/"
        },
        "id": "-6lAm-hfq9w9",
        "outputId": "399e82ba-3cfe-475f-f8df-0e156677ec75"
      },
      "outputs": [],
      "source": [
        "# Es 4.8: Inserito il numero n dire per quali numeri, compresi tra 1 e n, è divisibile.\n",
        "# Inserisco 10: stampo 1,2,5\n",
        "# Inserisco 7: stampo 1\n",
        "n=float(input(\"inserire un numero\"))\n",
        "i=1\n",
        "divisori=0\n",
        "while n>i:\n",
        "    if n&i==0: #ogni volta che trova un divisore che da resto 0, lo incrementa nella variabile divisori\n",
        "        divisori=divisori+1\n",
        "\n",
        "print(\"i divisori del numero inserito sono: \", divisori)\n",
        "\n"
      ]
    },
    {
      "cell_type": "code",
      "execution_count": null,
      "metadata": {
        "colab": {
          "base_uri": "https://localhost:8080/"
        },
        "id": "GjC4LdR7rP-b",
        "outputId": "9f539b4d-c307-479a-da13-610a7e1cc46e"
      },
      "outputs": [],
      "source": [
        "# Es 4.9: Inserito il numero n dire se è primo o no\n",
        "n=int(input(\"inserisci un numero: \"))\n",
        "\n",
        "if n<=1:\n",
        "    print(\"numero primo maggiore di 1\")\n",
        "else:\n",
        "    divisori=0\n",
        "    i=2 #primo divisore è 2 (dobbiamo vedere se ha divisori diversi da 1 e se stesso)\n",
        "    while n>i:\n",
        "        if n%i==0:\n",
        "            divisori=divisori+1 #incremento divisori ogni volta che da resto 0\n",
        "\n",
        "if divisori==0: #se variabile divisori rimane a 0 allora vuol dire che ha solo 1 e se stesso come divisore\n",
        "    print(\"il numero inserito è primo\")\n",
        "else:\n",
        "    print(\"il numero inserito non è primo\")"
      ]
    },
    {
      "cell_type": "code",
      "execution_count": null,
      "metadata": {
        "colab": {
          "base_uri": "https://localhost:8080/"
        },
        "id": "CxtWnOdHsTv4",
        "outputId": "5d874410-cb07-46a2-9c22-83d541b7a91a"
      },
      "outputs": [],
      "source": [
        "# Es 4.10: Creare la funzione moltiplica che restituisce il prodotto tra due numeri senza utilizzare *\n",
        "# 3*4 è uguale a 4+4+4\n",
        "def moltiplica(num1, num2):\n",
        "    i=1\n",
        "    prodotto=0\n",
        "    while i<=num1:\n",
        "        prodotto=prodotto+num2\n",
        "        i=i+1\n",
        "    print(\"il prodotto tra i due numeri è, \",prodotto) #funziona con numeri poisitivi \n",
        "\n",
        "moltiplica(int(input(\"inserisci il primo valore: \")), int(input(\"inserisci il secondo valore: \")))"
      ]
    }
  ],
  "metadata": {
    "colab": {
      "provenance": []
    },
    "kernelspec": {
      "display_name": "Python 3",
      "name": "python3"
    },
    "language_info": {
      "name": "python",
      "version": "3.10.8"
    }
  },
  "nbformat": 4,
  "nbformat_minor": 0
}
