{
  "cells": [
    {
      "cell_type": "markdown",
      "metadata": {
        "id": "inJF5uifNBg0"
      },
      "source": [
        "# Esercizi"
      ]
    },
    {
      "cell_type": "code",
      "execution_count": 13,
      "metadata": {
        "id": "EFiuNikwM8hY"
      },
      "outputs": [
        {
          "ename": "NameError",
          "evalue": "name 'lato' is not defined",
          "output_type": "error",
          "traceback": [
            "\u001b[0;31m---------------------------------------------------------------------------\u001b[0m",
            "\u001b[0;31mNameError\u001b[0m                                 Traceback (most recent call last)",
            "\u001b[1;32m/workspaces/informatica_5ASA_py/esercizi/geometria_solida.ipynb Cella 2\u001b[0m line \u001b[0;36m2\n\u001b[1;32m     <a href='vscode-notebook-cell://codespaces%2Bcuddly-waffle-r4gjv9v4rrp52x5xg/workspaces/informatica_5ASA_py/esercizi/geometria_solida.ipynb#W1sdnNjb2RlLXJlbW90ZQ%3D%3D?line=20'>21</a>\u001b[0m             \u001b[39mprint\u001b[39m(\u001b[39m\"\u001b[39m\u001b[39m \u001b[39m\u001b[39m\"\u001b[39m)\n\u001b[1;32m     <a href='vscode-notebook-cell://codespaces%2Bcuddly-waffle-r4gjv9v4rrp52x5xg/workspaces/informatica_5ASA_py/esercizi/geometria_solida.ipynb#W1sdnNjb2RlLXJlbW90ZQ%3D%3D?line=22'>23</a>\u001b[0m lato:\u001b[39mint\u001b[39m(\u001b[39minput\u001b[39m(\u001b[39m\"\u001b[39m\u001b[39minserisci valore lato cubo: \u001b[39m\u001b[39m\"\u001b[39m))\n\u001b[0;32m---> <a href='vscode-notebook-cell://codespaces%2Bcuddly-waffle-r4gjv9v4rrp52x5xg/workspaces/informatica_5ASA_py/esercizi/geometria_solida.ipynb#W1sdnNjb2RlLXJlbW90ZQ%3D%3D?line=23'>24</a>\u001b[0m \u001b[39mif\u001b[39;00m (lato\u001b[39m>\u001b[39m\u001b[39m0\u001b[39m):\n\u001b[1;32m     <a href='vscode-notebook-cell://codespaces%2Bcuddly-waffle-r4gjv9v4rrp52x5xg/workspaces/informatica_5ASA_py/esercizi/geometria_solida.ipynb#W1sdnNjb2RlLXJlbW90ZQ%3D%3D?line=24'>25</a>\u001b[0m     cubo(lato)\n\u001b[1;32m     <a href='vscode-notebook-cell://codespaces%2Bcuddly-waffle-r4gjv9v4rrp52x5xg/workspaces/informatica_5ASA_py/esercizi/geometria_solida.ipynb#W1sdnNjb2RlLXJlbW90ZQ%3D%3D?line=25'>26</a>\u001b[0m \u001b[39melse\u001b[39;00m:\n",
            "\u001b[0;31mNameError\u001b[0m: name 'lato' is not defined"
          ]
        }
      ],
      "source": [
        "# Es 7.1: Scrivi la funzione cubo(n) che stampi a schermo un quadrato di lato nxn formato utilizzando il carattere *\n",
        "#         Esempio:                       8 ->        * - - - - - - *     2 ->   * *\n",
        "#                                                  / |           / |          * * *\n",
        "#                                                /   |         /   |          * *\n",
        "#                                              /     |       /     |\n",
        "#                                            * - - - - - - *       |\n",
        "#                                            |       |     |       |\n",
        "#                                            |       |     |       |\n",
        "#                                            |       * - - | - - - *\n",
        "#                                            |     /       |     /\n",
        "#                                            |   /         |   /\n",
        "#                                            | /           | /\n",
        "#                                            * - - - - - - *\n",
        "def cubo(n):\n",
        "    for i in range(int(n+(n/2))):\n",
        "        if (i==0):\n",
        "            print(\" \"*(n//2) + \"*\" + \" - \"*(n-2) +\"*\")\n",
        "        if (i==n-1):\n",
        "            print(\"*\", \" - \"*(n-2)+\"*\")\n",
        "        else:\n",
        "            print(\" \")\n",
        "        \n",
        "lato=int(input(\"inserisci valore lato cubo: \"))\n",
        "if (lato>0):\n",
        "    cubo(lato)\n",
        "else:\n",
        "    lato=-lato\n",
        "    cubo(lato)\n",
        "    \n"
      ]
    }
  ],
  "metadata": {
    "colab": {
      "provenance": []
    },
    "kernelspec": {
      "display_name": "Python 3",
      "name": "python3"
    },
    "language_info": {
      "codemirror_mode": {
        "name": "ipython",
        "version": 3
      },
      "file_extension": ".py",
      "mimetype": "text/x-python",
      "name": "python",
      "nbconvert_exporter": "python",
      "pygments_lexer": "ipython3",
      "version": "3.10.8"
    }
  },
  "nbformat": 4,
  "nbformat_minor": 0
}
