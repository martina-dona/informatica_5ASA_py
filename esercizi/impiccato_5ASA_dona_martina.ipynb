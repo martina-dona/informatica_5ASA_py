{
  "cells": [
    {
      "cell_type": "code",
      "execution_count": 1,
      "metadata": {
        "id": "dEWxmkWc48Lz"
      },
      "outputs": [
        {
          "name": "stdout",
          "output_type": "stream",
          "text": [
            "hai indovinato la lettera:\n",
            "\n",
            "\n",
            "hai indovinato la lettera:\n",
            "\n",
            "\n",
            "hai indovinato la lettera:\n",
            "\n",
            "\n",
            "hai indovinato la lettera:\n",
            "\n",
            "\n",
            "hai indovinato la lettera:\n",
            "\n",
            "\n"
          ]
        }
      ],
      "source": [
        "# Es 8.1 Creare il gioco dell'impiccato\n",
        "# Suggerimento: per controllare se la lettera 'a' è presente all'interno della parola 'casa' si può usare:\n",
        "#\n",
        "# if 'a' in 'casa':\n",
        "#   print('Presente')\n",
        "\n",
        "def impiccato(parola):\n",
        "    lettere_parola=['_']*len(parola) #mette n trattini quante sono le lettere della parola da indovinare\n",
        "    tentativi=10\n",
        "\n",
        "\n",
        "    while tentativi>0:\n",
        "\n",
        "        lettera=input(\"inserisci una lettera: \")\n",
        "        indovinato=False #tiene conto delle lettere che sono state indovinate \n",
        "        if lettera in parola:\n",
        "            indovinato=True \n",
        "            print(\"hai indovinato la lettera:\\n\")\n",
        "            print(\" \".join(lettere_parola)) #stampa parola con lettere indovinate\n",
        "        else:\n",
        "            tentativi=tentativi-1\n",
        "            print(\"la lettera inserita non fa parte della parola, riprova:) \\n\")\n",
        "    \n",
        "    if '_'  not in lettere_parola:\n",
        "        print(\"hai indovinato la parola! la parola era: \"+ (parola))\n",
        "    else:\n",
        "        print(\"hai esaurito i tentativi, la parola da indovinare era: \"+(parola))\n",
        "\n",
        "\n",
        "parola=str(input(\"inserisci una parola: \"))\n",
        "impiccato(parola)"
      ]
    }
  ],
  "metadata": {
    "colab": {
      "provenance": []
    },
    "kernelspec": {
      "display_name": "Python 3",
      "name": "python3"
    },
    "language_info": {
      "codemirror_mode": {
        "name": "ipython",
        "version": 3
      },
      "file_extension": ".py",
      "mimetype": "text/x-python",
      "name": "python",
      "nbconvert_exporter": "python",
      "pygments_lexer": "ipython3",
      "version": "3.10.8"
    }
  },
  "nbformat": 4,
  "nbformat_minor": 0
}
